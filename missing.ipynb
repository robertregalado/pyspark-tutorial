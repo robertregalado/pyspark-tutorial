import pandas as pd
import numpy as np
import pyspark.pandas as ps
from pyspark.sql import SparkSession

# Pandas API on Spark primarily uses the value np.nan to represent missing data. It is by default not included in computations
 
pdf1 = pdf.reindex(index=date[0:4], columns=list(pdf.columns) + ['E'])

pdf1.loc[dates[0]:dates[1], 'E'] = 1

psdf1 = ps.from_pandas(pdf1)

psdf1
